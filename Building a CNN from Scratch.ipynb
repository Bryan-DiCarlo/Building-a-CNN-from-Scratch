{
 "cells": [
  {
   "cell_type": "markdown",
   "metadata": {},
   "source": [
    "# Building a CNN from Scratch - Lab\n",
    "\n",
    "## Introduction\n",
    "\n",
    "Now that you have background knowledge regarding how CNNs work and how to implement them via Keras, its time to pratice those skills a little more independently in order to build a CNN on your own to solve a image recognition problem. In this lab, you'll practice building an image classifier from start to finish using a CNN.  \n",
    "\n",
    "## Objectives\n",
    "\n",
    "You will be able to:\n",
    "* Transform images into tensors\n",
    "* Build a CNN model for image recognition"
   ]
  },
  {
   "cell_type": "markdown",
   "metadata": {},
   "source": [
    "## Loading the Images\n",
    "\n",
    "The data for this lab concerns classifying lung xray images for pneumonia. The original dataset is from kaggle. We have downsampled this dataset in order to reduce trainging time for you when you design and fit your model to the data. It is anticipated that this process will take approximately 1 hour to run on a standard machine, although times will vary depending on your particular computer and set up. At the end of this lab, you are welcome to try training on the complete dataset and observe the impact on the model's overall accuracy. \n",
    "\n",
    "You can find the initial downsampled dataset in a subdirectory, **chest_xray**, of this repository."
   ]
  },
  {
   "cell_type": "code",
   "execution_count": 5,
   "metadata": {},
   "outputs": [],
   "source": [
    "#Your code here; load the images; be sure to also preprocess these into tensors.\n",
    "from keras.preprocessing.image import ImageDataGenerator\n",
    "import datetime\n",
    "\n",
    "original_start = datetime.datetime.now()\n",
    "start = datetime.datetime.now()"
   ]
  },
  {
   "cell_type": "code",
   "execution_count": 6,
   "metadata": {},
   "outputs": [
    {
     "name": "stdout",
     "output_type": "stream",
     "text": [
      "Found 1738 images belonging to 2 classes.\n",
      "Found 4 images belonging to 2 classes.\n"
     ]
    }
   ],
   "source": [
    "train_dir = 'chest_xray_downsampled/train'\n",
    "validation_dir = 'chest_xray_downsampled/val/'\n",
    "test_dir = 'chest_xray_downsampled/test/'\n",
    "\n",
    "# All images will be rescaled by 1./255\n",
    "train_datagen = ImageDataGenerator(rescale=1./255)\n",
    "test_datagen = ImageDataGenerator(rescale=1./255)\n",
    "\n",
    "train_generator = train_datagen.flow_from_directory(\n",
    "        # This is the target directory\n",
    "        train_dir,\n",
    "        # All images will be resized to 150x150\n",
    "        target_size=(150, 150),\n",
    "        batch_size=20,\n",
    "        # Since we use binary_crossentropy loss, we need binary labels\n",
    "        class_mode='binary')\n",
    "\n",
    "validation_generator = test_datagen.flow_from_directory(\n",
    "        validation_dir,\n",
    "        target_size=(150, 150),\n",
    "        batch_size=20,\n",
    "        class_mode='binary')"
   ]
  },
  {
   "cell_type": "markdown",
   "metadata": {},
   "source": [
    "## Designing the Model\n",
    "\n",
    "Now it's time to design your CNN! Remember a few things when doing this: \n",
    "* You should alternate convolutional and pooling layers\n",
    "* You should have later layers have a larger number of parameters in order to detect more abstract patterns\n",
    "* Add some final dense layers to add a classifier to the convolutional base"
   ]
  },
  {
   "cell_type": "code",
   "execution_count": 7,
   "metadata": {},
   "outputs": [],
   "source": [
    "#Your code here; design and compile the model\n",
    "from keras import layers\n",
    "from keras import models\n",
    "\n",
    "model = models.Sequential()\n",
    "model.add(layers.Conv2D(32, (3, 3), activation='relu',\n",
    "                        input_shape=(150, 150, 3)))\n",
    "model.add(layers.MaxPooling2D((2, 2)))\n",
    "model.add(layers.Conv2D(64, (3, 3), activation='relu'))\n",
    "model.add(layers.MaxPooling2D((2, 2)))\n",
    "model.add(layers.Conv2D(128, (3, 3), activation='relu'))\n",
    "model.add(layers.MaxPooling2D((2, 2)))\n",
    "model.add(layers.Conv2D(128, (3, 3), activation='relu'))\n",
    "model.add(layers.MaxPooling2D((2, 2)))\n",
    "model.add(layers.Flatten())\n",
    "model.add(layers.Dense(512, activation='relu'))\n",
    "model.add(layers.Dense(1, activation='sigmoid'))"
   ]
  },
  {
   "cell_type": "code",
   "execution_count": 8,
   "metadata": {
    "scrolled": false
   },
   "outputs": [
    {
     "name": "stdout",
     "output_type": "stream",
     "text": [
      "_________________________________________________________________\n",
      "Layer (type)                 Output Shape              Param #   \n",
      "=================================================================\n",
      "conv2d_5 (Conv2D)            (None, 148, 148, 32)      896       \n",
      "_________________________________________________________________\n",
      "max_pooling2d_5 (MaxPooling2 (None, 74, 74, 32)        0         \n",
      "_________________________________________________________________\n",
      "conv2d_6 (Conv2D)            (None, 72, 72, 64)        18496     \n",
      "_________________________________________________________________\n",
      "max_pooling2d_6 (MaxPooling2 (None, 36, 36, 64)        0         \n",
      "_________________________________________________________________\n",
      "conv2d_7 (Conv2D)            (None, 34, 34, 128)       73856     \n",
      "_________________________________________________________________\n",
      "max_pooling2d_7 (MaxPooling2 (None, 17, 17, 128)       0         \n",
      "_________________________________________________________________\n",
      "conv2d_8 (Conv2D)            (None, 15, 15, 128)       147584    \n",
      "_________________________________________________________________\n",
      "max_pooling2d_8 (MaxPooling2 (None, 7, 7, 128)         0         \n",
      "_________________________________________________________________\n",
      "flatten_2 (Flatten)          (None, 6272)              0         \n",
      "_________________________________________________________________\n",
      "dense_3 (Dense)              (None, 512)               3211776   \n",
      "_________________________________________________________________\n",
      "dense_4 (Dense)              (None, 1)                 513       \n",
      "=================================================================\n",
      "Total params: 3,453,121\n",
      "Trainable params: 3,453,121\n",
      "Non-trainable params: 0\n",
      "_________________________________________________________________\n"
     ]
    }
   ],
   "source": [
    "model.summary()"
   ]
  },
  {
   "cell_type": "code",
   "execution_count": 9,
   "metadata": {},
   "outputs": [],
   "source": [
    "from keras import optimizers\n",
    "\n",
    "model.compile(loss='binary_crossentropy',\n",
    "              optimizer=optimizers.RMSprop(lr=1e-4),\n",
    "              metrics=['acc'])"
   ]
  },
  {
   "cell_type": "markdown",
   "metadata": {},
   "source": [
    "## Training and Evaluating the Model\n",
    "\n",
    "Remember that training deep networks is resource intensive: depending on the size of the data, even a CNN with 3-4 successive convolutional and pooling layers is apt to take a hours to train on a high end laptop. Using 30 epochs and 8 layers (alternating between convolutional and pooling), our model took about 40 minutes to run on a year old macbook pro.\n",
    "\n",
    "\n",
    "If you are concerned with runtime, you may want to set your model to run the training epochs overnight.  \n",
    "\n",
    "**If you are going to run this process overnight, be sure to also script code for the following questions concerning data augmentation. Check your code twice (or more) and then set the notebook to run all, or something equivalent to have them train overnight.**"
   ]
  },
  {
   "cell_type": "code",
   "execution_count": 10,
   "metadata": {
    "scrolled": true
   },
   "outputs": [
    {
     "name": "stdout",
     "output_type": "stream",
     "text": [
      "WARNING:tensorflow:From C:\\Users\\bryan\\Anaconda3\\lib\\site-packages\\tensorflow\\python\\ops\\math_ops.py:3066: to_int32 (from tensorflow.python.ops.math_ops) is deprecated and will be removed in a future version.\n",
      "Instructions for updating:\n",
      "Use tf.cast instead.\n",
      "Epoch 1/30\n",
      "100/100 [==============================] - 294s 3s/step - loss: 0.4961 - acc: 0.7705 - val_loss: 0.7546 - val_acc: 0.7500\n",
      "Epoch 2/30\n",
      "100/100 [==============================] - 284s 3s/step - loss: 0.2893 - acc: 0.8738 - val_loss: 0.8296 - val_acc: 0.5000\n",
      "Epoch 3/30\n",
      "100/100 [==============================] - 291s 3s/step - loss: 0.1909 - acc: 0.9244 - val_loss: 0.9744 - val_acc: 0.5000\n",
      "Epoch 4/30\n",
      "100/100 [==============================] - 283s 3s/step - loss: 0.1485 - acc: 0.9419 - val_loss: 1.6085 - val_acc: 0.5000\n",
      "Epoch 5/30\n",
      "100/100 [==============================] - 288s 3s/step - loss: 0.1319 - acc: 0.9494 - val_loss: 1.2229 - val_acc: 0.7500\n",
      "Epoch 6/30\n",
      "100/100 [==============================] - 287s 3s/step - loss: 0.1040 - acc: 0.9584 - val_loss: 2.4127 - val_acc: 0.5000\n",
      "Epoch 7/30\n",
      "100/100 [==============================] - 282s 3s/step - loss: 0.0949 - acc: 0.9605 - val_loss: 1.3647 - val_acc: 0.7500\n",
      "Epoch 8/30\n",
      "100/100 [==============================] - 282s 3s/step - loss: 0.0940 - acc: 0.9625 - val_loss: 1.0827 - val_acc: 0.7500\n",
      "Epoch 9/30\n",
      "100/100 [==============================] - 281s 3s/step - loss: 0.0730 - acc: 0.9740 - val_loss: 1.2184 - val_acc: 0.7500\n",
      "Epoch 10/30\n",
      "100/100 [==============================] - 280s 3s/step - loss: 0.0679 - acc: 0.9750 - val_loss: 2.6452 - val_acc: 0.5000\n",
      "Epoch 11/30\n",
      "100/100 [==============================] - 285s 3s/step - loss: 0.0574 - acc: 0.9784 - val_loss: 1.8597 - val_acc: 0.5000\n",
      "Epoch 12/30\n",
      "100/100 [==============================] - 293s 3s/step - loss: 0.0558 - acc: 0.9809 - val_loss: 1.3693 - val_acc: 0.5000\n",
      "Epoch 13/30\n",
      "100/100 [==============================] - 289s 3s/step - loss: 0.0451 - acc: 0.9815 - val_loss: 2.0784 - val_acc: 0.5000\n",
      "Epoch 14/30\n",
      "100/100 [==============================] - 291s 3s/step - loss: 0.0439 - acc: 0.9860 - val_loss: 2.2412 - val_acc: 0.5000\n",
      "Epoch 15/30\n",
      "100/100 [==============================] - 292s 3s/step - loss: 0.0374 - acc: 0.9870 - val_loss: 0.8593 - val_acc: 0.5000\n",
      "Epoch 16/30\n",
      "100/100 [==============================] - 294s 3s/step - loss: 0.0304 - acc: 0.9875 - val_loss: 2.2915 - val_acc: 0.7500\n",
      "Epoch 17/30\n",
      "100/100 [==============================] - 283s 3s/step - loss: 0.0332 - acc: 0.9895 - val_loss: 3.2216 - val_acc: 0.5000\n",
      "Epoch 18/30\n",
      "100/100 [==============================] - 282s 3s/step - loss: 0.0239 - acc: 0.9940 - val_loss: 3.4829 - val_acc: 0.5000\n",
      "Epoch 19/30\n",
      "100/100 [==============================] - 284s 3s/step - loss: 0.0224 - acc: 0.9905 - val_loss: 0.6213 - val_acc: 0.7500\n",
      "Epoch 20/30\n",
      "100/100 [==============================] - 284s 3s/step - loss: 0.0201 - acc: 0.9915 - val_loss: 2.0189 - val_acc: 0.5000\n",
      "Epoch 21/30\n",
      "100/100 [==============================] - 282s 3s/step - loss: 0.0145 - acc: 0.9945 - val_loss: 0.7733 - val_acc: 0.7500\n",
      "Epoch 22/30\n",
      "100/100 [==============================] - 282s 3s/step - loss: 0.0113 - acc: 0.9965 - val_loss: 1.6300 - val_acc: 0.7500\n",
      "Epoch 23/30\n",
      "100/100 [==============================] - 282s 3s/step - loss: 0.0089 - acc: 0.9980 - val_loss: 2.8262 - val_acc: 0.5000\n",
      "Epoch 24/30\n",
      "100/100 [==============================] - 280s 3s/step - loss: 0.0136 - acc: 0.9945 - val_loss: 2.0666 - val_acc: 0.5000\n",
      "Epoch 25/30\n",
      "100/100 [==============================] - 280s 3s/step - loss: 0.0056 - acc: 0.9990 - val_loss: 3.0889 - val_acc: 0.5000\n",
      "Epoch 26/30\n",
      "100/100 [==============================] - 281s 3s/step - loss: 0.0131 - acc: 0.9960 - val_loss: 1.6038 - val_acc: 0.7500\n",
      "Epoch 27/30\n",
      "100/100 [==============================] - 1417s 14s/step - loss: 0.0060 - acc: 0.9985 - val_loss: 3.3079 - val_acc: 0.7500\n",
      "Epoch 28/30\n",
      "100/100 [==============================] - 286s 3s/step - loss: 0.0037 - acc: 0.9990 - val_loss: 2.0017 - val_acc: 0.7500\n",
      "Epoch 29/30\n",
      "100/100 [==============================] - 283s 3s/step - loss: 0.0039 - acc: 0.9995 - val_loss: 2.4117 - val_acc: 0.5000\n",
      "Epoch 30/30\n",
      "100/100 [==============================] - 283s 3s/step - loss: 0.0020 - acc: 0.9995 - val_loss: 2.3981 - val_acc: 0.7500\n"
     ]
    }
   ],
   "source": [
    "#Set the model to train; see warnings above\n",
    "history = model.fit_generator(\n",
    "      train_generator,\n",
    "      steps_per_epoch=100,\n",
    "      epochs=30,\n",
    "      validation_data=validation_generator,\n",
    "      validation_steps=50)"
   ]
  },
  {
   "cell_type": "code",
   "execution_count": 11,
   "metadata": {},
   "outputs": [
    {
     "data": {
      "image/png": "[encoded data removed]",
      "text/plain": [
       "<Figure size 432x288 with 1 Axes>"
      ]
     },
     "metadata": {
      "needs_background": "light"
     },
     "output_type": "display_data"
    },
    {
     "data": {
      "image/png": "[encoded data removed]",
      "text/plain": [
       "<Figure size 432x288 with 1 Axes>"
      ]
     },
     "metadata": {
      "needs_background": "light"
     },
     "output_type": "display_data"
    }
   ],
   "source": [
    "import matplotlib.pyplot as plt\n",
    "%matplotlib inline \n",
    "\n",
    "acc = history.history['acc']\n",
    "val_acc = history.history['val_acc']\n",
    "loss = history.history['loss']\n",
    "val_loss = history.history['val_loss']\n",
    "epochs = range(len(acc))\n",
    "plt.plot(epochs, acc, 'bo', label='Training acc')\n",
    "plt.plot(epochs, val_acc, 'b', label='Validation acc')\n",
    "plt.title('Training and validation accuracy')\n",
    "plt.legend()\n",
    "plt.figure()\n",
    "plt.plot(epochs, loss, 'bo', label='Training loss')\n",
    "plt.plot(epochs, val_loss, 'b', label='Validation loss')\n",
    "plt.title('Training and validation loss')\n",
    "plt.legend()\n",
    "plt.show()\n"
   ]
  },
  {
   "cell_type": "markdown",
   "metadata": {},
   "source": [
    "## Save the Model"
   ]
  },
  {
   "cell_type": "code",
   "execution_count": 12,
   "metadata": {},
   "outputs": [],
   "source": [
    "model.save('chest_xray_downsampled_data.h5')"
   ]
  },
  {
   "cell_type": "markdown",
   "metadata": {},
   "source": [
    "## Data Augmentation\n",
    "\n",
    "Recall that data augmentation is typically always a necessary step when using a small dataset as this one which you have been provided. As such, if you haven't already, implement a data augmentation setup.\n",
    "\n",
    "**Warning: This process took nearly 4 hours to run on a relatively new macbook pro. As such, it is recommended that you simply code the setup and compare to the solution branch, or set the process to run overnight if you do choose to actually run the code.**"
   ]
  },
  {
   "cell_type": "code",
   "execution_count": null,
   "metadata": {},
   "outputs": [],
   "source": [
    "#Add data augmentation to the model setup and set the model to train; \n",
    "#See warnings above if you intend to run this block of code"
   ]
  },
  {
   "cell_type": "code",
   "execution_count": null,
   "metadata": {},
   "outputs": [],
   "source": [
    "#start = datetime.datetime.now()"
   ]
  },
  {
   "cell_type": "code",
   "execution_count": null,
   "metadata": {},
   "outputs": [],
   "source": [
    "#train_datagen = ImageDataGenerator(\n",
    "     # rotation_range=40,\n",
    "     # width_shift_range=0.2,\n",
    "     # height_shift_range=0.2,\n",
    "     # shear_range=0.2,\n",
    "     # zoom_range=0.2,\n",
    "     # horizontal_flip=True,\n",
    "     # fill_mode='nearest')\n",
    "\n",
    "#test_datagen = ImageDataGenerator(rescale=1./255)\n",
    "\n",
    "#train_generator = train_datagen.flow_from_directory(\n",
    "        # This is the target directory\n",
    "        #train_dir,\n",
    "        # All images will be resized to 150x150\n",
    "       # target_size=(150, 150),\n",
    "       # batch_size=32,\n",
    "        # Since we use binary_crossentropy loss, we need binary labels\n",
    "        #class_mode='binary')\n",
    "\n",
    "#validation_generator = test_datagen.flow_from_directory(\n",
    "        #validation_dir,\n",
    "       # target_size=(150, 150),\n",
    "       # batch_size=32,\n",
    "        #class_mode='binary')\n",
    "\n",
    "#history = model.fit_generator(\n",
    "      #train_generator,\n",
    "      #steps_per_epoch=100,\n",
    "      #epochs=100,\n",
    "      #validation_data=validation_generator,\n",
    "      #validation_steps=50)"
   ]
  },
  {
   "cell_type": "code",
   "execution_count": null,
   "metadata": {},
   "outputs": [],
   "source": [
    "#acc = history.history['acc']\n",
    "#loss = history.history['loss']\n",
    "#val_loss = history.history['val_loss']\n",
    "#epochs = range(len(acc))\n",
    "#plt.plot(epochs, acc, 'bo', label='Training acc')\n",
    "#plt.plot(epochs, val_acc, 'b', label='Validation acc')\n",
    "#plt.title('Training and validation accuracy')\n",
    "#plt.legend()\n",
    "#plt.figure()\n",
    "#plt.plot(epochs, loss, 'bo', label='Training loss')\n",
    "#plt.plot(epochs, val_loss, 'b', label='Validation loss')\n",
    "#plt.title('Training and validation loss')\n",
    "#plt.legend()\n",
    "# plt.show()"
   ]
  },
  {
   "cell_type": "code",
   "execution_count": null,
   "metadata": {},
   "outputs": [],
   "source": [
    "#end = datetime.datetime.now()\n",
    "#elapsed = end - start\n",
    "#print('Training with data augmentation took a total of {}'.format(elapsed))"
   ]
  },
  {
   "cell_type": "code",
   "execution_count": null,
   "metadata": {},
   "outputs": [],
   "source": [
    "#model.save('chest_xray_downsampled_with_augmentation_data.h5')"
   ]
  },
  {
   "cell_type": "markdown",
   "metadata": {},
   "source": [
    "## Final Evaluation\n",
    "\n",
    "Now use the test set to perform a final evaluation on your model of choice."
   ]
  },
  {
   "cell_type": "code",
   "execution_count": null,
   "metadata": {},
   "outputs": [],
   "source": [
    "# Your code here; perform a final evaluation using the test set..\n",
    "#test_generator = test_datagen.flow_from_directory(\n",
    "        #test_dir,\n",
    "        #target_size=(150, 150),\n",
    "        #batch_size=20,\n",
    "        #class_mode='binary')\n",
    "#test_loss, test_acc = model.evaluate_generator(test_generator, steps=50)\n",
    "#print('test acc:', test_acc)"
   ]
  },
  {
   "cell_type": "markdown",
   "metadata": {},
   "source": [
    "## Extension: Adding Data to the Model\n",
    "\n",
    "As discussed, the current dataset we worked with is a subset of a dataset hosted on Kaggle. Increasing the data that we use to train the model will result in additional performance gains but will also result in longer training times and be more resource intensive.   \n",
    "\n",
    "It is estimated that training on the full dataset will take approximately 4 hours (and potentially significantly longer) depending on your computer's specifications.\n",
    "\n",
    "In order to test the impact of training on the full dataset, start by downloading the data from kaggle here: https://www.kaggle.com/paultimothymooney/chest-xray-pneumonia.   "
   ]
  },
  {
   "cell_type": "code",
   "execution_count": null,
   "metadata": {},
   "outputs": [],
   "source": [
    "#Optional extension; Your code here"
   ]
  },
  {
   "cell_type": "markdown",
   "metadata": {},
   "source": [
    "## Summary\n",
    "\n",
    "Well done! In this lab, you practice building your own CNN for image recognition which drastically outperformed our previous attempts using a standard deep learning model alone. In the upcoming sections, we'll continue to investigate further techniques associated with CNNs including visualizing the representations they learn and techniques to further bolster their performance when we have limited training data such as here."
   ]
  }
 ],
 "metadata": {
  "kernelspec": {
   "display_name": "Python 3",
   "language": "python",
   "name": "python3"
  },
  "language_info": {
   "codemirror_mode": {
    "name": "ipython",
    "version": 3
   },
   "file_extension": ".py",
   "mimetype": "text/x-python",
   "name": "python",
   "nbconvert_exporter": "python",
   "pygments_lexer": "ipython3",
   "version": "3.7.3"
  }
 },
 "nbformat": 4,
 "nbformat_minor": 2
}
